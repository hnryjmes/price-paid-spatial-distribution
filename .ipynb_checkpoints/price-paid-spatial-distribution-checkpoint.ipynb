{
 "cells": [
  {
   "cell_type": "code",
   "execution_count": null,
   "metadata": {},
   "outputs": [],
   "source": []
  },
  {
   "cell_type": "markdown",
   "metadata": {},
   "source": [
    "# Data Science – Price Paid Spatial Distribution\n",
    "### Tutorial\n",
    "* Step 1 ~ Import Python Libraries\n",
    "* Step 2 ~ Request LAD boundary from the ONS Open Geography Portal WFS\n",
    "* Step 3 ~ Construct a URL path for the OS Maps API\n",
    "* Step 4 ~ Plot LAD boundary returned by the ONS Open Geography Portal WFS on an OS Maps API backed slippy map\n",
    "* Step 5 ~ Download the OS Open Data product Code-Point Open using the OS Downloads API\n",
    "* Step 6 ~ Extract the Code-Point Open GPKG from the zipped download\n",
    "* Step 7 ~ Obtain the data layer name from the Code-Point Open GPKG\n",
    "* Step 8 ~ Load Code-Point Open layer from GPKG into a GeoDataFrame and reproject from British National Grid to WGS-84\n",
    "* Step 9 ~ Obtain ESRI JSON geometry representation of LAD boundary to pass to ONS ESRI ArcGIS REST API\n",
    "* Step 10 ~ Request LSOA Boundaries from the ONS Open Geography Portal ArcGIS REST API\n",
    "* Step 11 ~ Plot LSOA boundaries returned by the ONS Open Geography Portal ESRI ArcGIS REST API on an OS Maps API backed slippy map\n",
    "* Step 12 ~ Spatially join postcode and LSOA GeoDataFrames\n",
    "* Step 13 ~ Transform the postcode strings such that each string has a single space between the outward and inward codes\n",
    "* Step 14 ~ Request the historical HM LR Price Paid Data for the LAD boundary using the transformed postcode strings associated with the postcode geometries returned from the containment query\n",
    "* Step 15 ~ Join Price Paid and postcode-LSOA DataFrames and compute median price paid by LSOA by 6 year time windows\n",
    "* Step 16 ~ Request OS Open ZoomStack district building geometires from the OS Features API for the LAD boundary BBOX\n",
    "* Step 17 ~ Spatially join and compute the intersection between building polygon geometries and LSOA polygon geometries and, dissolve the resultant buidling features by LSOA code to form an aggregate building geometry per LSOA\n",
    "* Step 18 ~ Join buidling-LSOA and LSOA-median price paid by 6 year time window DataFrames together on LSOA code\n",
    "* Step 19 ~ Visualise the spatial distribution in LSOA median price paid decile by 6 year time window\n",
    "* Step 20 ~ Visualise the change in LSOA median price paid decile between 1995 - 2001 and 2013 - 2019 for LSOAs where the decile position has increased or decreased by two or more places\n",
    "\n"
   ]
  },
  {
   "cell_type": "code",
   "execution_count": null,
   "metadata": {},
   "outputs": [],
   "source": [
    "!pip install -r requirements.txt"
   ]
  },
  {
   "cell_type": "code",
   "execution_count": null,
   "metadata": {},
   "outputs": [],
   "source": [
    "import fiona\n",
    "import folium\n",
    "import geopandas as gpd\n",
    "import matplotlib.pyplot as plt\n",
    "import numpy as np\n",
    "import pandas as pd\n",
    "import requests\n",
    "from datetime import datetime\n",
    "from folium.plugins import FloatImage\n",
    "from mpl_toolkits.axes_grid1 import make_axes_locatable\n",
    "from zipfile import ZipFile\n",
    "\n",
    "print(\"=> Imported libraries\")\n"
   ]
  },
  {
   "cell_type": "code",
   "execution_count": null,
   "metadata": {},
   "outputs": [],
   "source": []
  }
 ],
 "metadata": {
  "kernelspec": {
   "display_name": "conda_python3",
   "language": "python",
   "name": "conda_python3"
  },
  "language_info": {
   "codemirror_mode": {
    "name": "ipython",
    "version": 3
   },
   "file_extension": ".py",
   "mimetype": "text/x-python",
   "name": "python",
   "nbconvert_exporter": "python",
   "pygments_lexer": "ipython3",
   "version": "3.6.10"
  }
 },
 "nbformat": 4,
 "nbformat_minor": 4
}
