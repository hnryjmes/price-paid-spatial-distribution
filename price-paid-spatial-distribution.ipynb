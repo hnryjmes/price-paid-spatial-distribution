{
 "cells": [
  {
   "cell_type": "markdown",
   "metadata": {},
   "source": [
    "# Data Science – Price Paid Spatial Distribution\n",
    "### Tutorial\n",
    "* Step 1 ~ Import Python Libraries\n",
    "* Step 2 ~ Request LAD boundary from the ONS Open Geography Portal WFS\n",
    "* Step 3 ~ Construct a URL path for the OS Maps API\n",
    "* Step 4 ~ Plot LAD boundary returned by the ONS Open Geography Portal WFS on an OS Maps API backed slippy map\n",
    "* Step 5 ~ Download the OS Open Data product Code-Point Open using the OS Downloads API\n",
    "* Step 6 ~ Extract the Code-Point Open GPKG from the zipped download\n",
    "* Step 7 ~ Obtain the data layer name from the Code-Point Open GPKG\n",
    "* Step 8 ~ Load Code-Point Open layer from GPKG into a GeoDataFrame and reproject from British National Grid to WGS-84\n",
    "* Step 9 ~ Obtain ESRI JSON geometry representation of LAD boundary to pass to ONS ESRI ArcGIS REST API\n",
    "* Step 10 ~ Request LSOA Boundaries from the ONS Open Geography Portal ArcGIS REST API\n",
    "* Step 11 ~ Plot LSOA boundaries returned by the ONS Open Geography Portal ESRI ArcGIS REST API on an OS Maps API backed slippy map\n",
    "* Step 12 ~ Spatially join postcode and LSOA GeoDataFrames\n",
    "* Step 13 ~ Transform the postcode strings such that each string has a single space between the outward and inward codes\n",
    "* Step 14 ~ Request the historical HM LR Price Paid Data for the LAD boundary using the transformed postcode strings associated with the postcode geometries returned from the containment query\n",
    "* Step 15 ~ Join Price Paid and postcode-LSOA DataFrames and compute median price paid by LSOA by 6 year time windows\n",
    "* Step 16 ~ Request OS Open ZoomStack district building geometires from the OS Features API for the LAD boundary BBOX\n",
    "* Step 17 ~ Spatially join and compute the intersection between building polygon geometries and LSOA polygon geometries and, dissolve the resultant buidling features by LSOA code to form an aggregate building geometry per LSOA\n",
    "* Step 18 ~ Join buidling-LSOA and LSOA-median price paid by 6 year time window DataFrames together on LSOA code\n",
    "* Step 19 ~ Visualise the spatial distribution in LSOA median price paid decile by 6 year time window\n",
    "* Step 20 ~ Visualise the change in LSOA median price paid decile between 1995 - 2001 and 2013 - 2019 for LSOAs where the decile position has increased or decreased by two or more places\n",
    "\n"
   ]
  },
  {
   "cell_type": "markdown",
   "metadata": {},
   "source": [
    "### Step 1 ~ Import Python Libraries"
   ]
  },
  {
   "cell_type": "code",
   "execution_count": null,
   "metadata": {},
   "outputs": [],
   "source": [
    "!pip install -r requirements.txt"
   ]
  },
  {
   "cell_type": "code",
   "execution_count": null,
   "metadata": {},
   "outputs": [],
   "source": [
    "import fiona\n",
    "import folium\n",
    "import geopandas as gpd\n",
    "import matplotlib.pyplot as plt\n",
    "import numpy as np\n",
    "import pandas as pd\n",
    "import requests\n",
    "import secrets\n",
    "from datetime import datetime\n",
    "from folium.plugins import FloatImage\n",
    "from mpl_toolkits.axes_grid1 import make_axes_locatable\n",
    "from zipfile import ZipFile\n",
    "\n",
    "print(\"=> Imported libraries\")\n"
   ]
  },
  {
   "cell_type": "markdown",
   "metadata": {},
   "source": [
    "### Step 2 ~ Request LAD boundary from the ONS Open Geography Portal WFS\n"
   ]
  },
  {
   "cell_type": "code",
   "execution_count": null,
   "metadata": {
    "tags": [
     "outputPrepend"
    ]
   },
   "outputs": [],
   "source": [
    "# ONS Open Geography Portal WFS base path: https://ons-inspire.esriuk.com\n",
    "# ONS WFS endpoint path: /arcgis/services/Administrative_Boundaries\n",
    "#                        /Local_Authority_Districts_May_2020_Boundaries_UK_BFE\n",
    "#                        /MapServer/WFSServer?\n",
    "wfs_endpoint = ('https://ons-inspire.esriuk.com/arcgis/services/Administrative_Boundaries'\n",
    "                '/Local_Authority_Districts_May_2020_Boundaries_UK_BFE/MapServer/WFSServer?')\n",
    "\n",
    "# Define WFS parameters \n",
    "service = 'wfs'\n",
    "request = 'GetFeature'\n",
    "version = '2.0.0'\n",
    "typeNames = ('Administrative_Boundaries_Local_Authority_Districts_May_2020_Boundaries_UK_BFE:'\n",
    "             'Local_Authority_Districts__May_2020__Full_Extent_Boundaries_UK')\n",
    "outputFormat = 'GEOJSON'\n",
    "srsName = 'EPSG:4326'\n",
    "# Define attribute-based filter using OGC WFS filter encoding specification\n",
    "# Filter specifies the Government Statistical Service (GSS) Code for the Southampton local authority district area\n",
    "filter = ('<ogc:Filter>'\n",
    "              '<ogc:PropertyIsEqualTo>'\n",
    "                  '<ogc:PropertyName>lad20cd</ogc:PropertyName>'\n",
    "                  '<ogc:Literal>E06000045</ogc:Literal>'\n",
    "              '</ogc:PropertyIsEqualTo>'\n",
    "          '</ogc:Filter>')\n",
    "\n",
    "# LA code for Liverpool: E08000012\n",
    "# LA code for Southampton: E06000045\n",
    "\n",
    "# Represent WFS parameters in a dictionary and collapse OGC filter into a single line\n",
    "params_wfs = {'service':service, \n",
    "              'request':request,\n",
    "              'version':version,\n",
    "              'typeNames':typeNames,\n",
    "              'outputFormat':outputFormat,\n",
    "              'srsName':srsName,\n",
    "              'filter':filter}\n",
    "\n",
    "# Make HTTP GET request and raise exception if request was unsuccessful\n",
    "# Turn off verification to remove the need to whitelist certificate\n",
    "try:\n",
    "    r = requests.get(wfs_endpoint, params=params_wfs)\n",
    "    r.raise_for_status()\n",
    "except requests.exceptions.RequestException as e:  \n",
    "    print(e)\n",
    "\n",
    "# Decode JSON payload returned by request    \n",
    "payload = r.json()\n"
   ]
  },
  {
   "cell_type": "code",
   "execution_count": null,
   "metadata": {},
   "outputs": [],
   "source": [
    "# Define coordinate reference system (CRS) codes\n",
    "# WGS 84\n",
    "WGS84 = 'epsg:4326'\n",
    "# British National Grid\n",
    "BNG = 'epsg:27700'\n",
    "\n",
    "# Transform GeoJSON features into a GeoPandas GeoDataFrame\n",
    "gdf_boundary = gpd.GeoDataFrame.from_features(payload['features'], crs=WGS84)\n",
    "\n",
    "# Obtain polygon centroid point geometry\n",
    "boundary_centroid = gdf_boundary['geometry'].centroid\n",
    "\n",
    "# Obtain x and y coordinates of centroid point geometry\n",
    "x = boundary_centroid.x\n",
    "y = boundary_centroid.y\n",
    "\n",
    "# Obtain bounds of polygon geometry\n",
    "bounds = gdf_boundary['geometry'][0].bounds\n",
    "\n",
    "# Define a OGC WFS filter compliant bounding box for the polygon geometry\n",
    "# bottom-left y, bottom-left x, top-right y, top-right x\n",
    "# bbox = str(bounds[1]) + ',' + str(bounds[0]) + ',' + str(bounds[3]) + ',' + str(bounds[2])\n",
    "bbox = ','.join([str(bounds[1]), str(bounds[0]), str(bounds[3]), str(bounds[2])])\n",
    "\n",
    "# Plot boundary geometry\n",
    "ax = gdf_boundary.plot(color='#ff1f5b')\n",
    "# Turn plot axis off\n",
    "ax.axis('off')\n",
    "\n",
    "print('=> Transformed ONS WFS GeoJSON payload into a GeoDataFrame')\n"
   ]
  },
  {
   "cell_type": "markdown",
   "metadata": {},
   "source": []
  },
  {
   "cell_type": "markdown",
   "metadata": {},
   "source": [
    "### Step 3 ~ Construct a URL path for the OS Maps API ZXY endpoint"
   ]
  },
  {
   "cell_type": "code",
   "execution_count": null,
   "metadata": {},
   "outputs": [],
   "source": [
    "# OS Data Hub base path: https://api.os.uk\n",
    "# OS Maps API (ZXY) endpoint path: /maps/raster/v1/zxy/layer/{z}/{x}/{y}.png?\n",
    "key = secrets.os_data_hub_api_key # if this doesn't work then you need to set the os_data_hub_api_key variable with your api key in a file called secrets.py\n",
    "layer = 'Light_3857'\n",
    "\n",
    "zxy_path = 'https://api.os.uk/maps/raster/v1/zxy/{}/{{z}}/{{x}}/{{y}}.png?key={}'.format(layer, key)\n",
    "\n",
    "print('=> Constructed OS Maps ZXY API path: {}'.format(zxy_path))"
   ]
  },
  {
   "cell_type": "markdown",
   "metadata": {},
   "source": [
    "### Step 4 ~ Plot LAD boundary returned by the ONS Open Geography Portal WFS on an OS Maps API backed slippy map"
   ]
  },
  {
   "cell_type": "code",
   "execution_count": null,
   "metadata": {},
   "outputs": [],
   "source": [
    "# Obtain current date-time\n",
    "date = datetime.now()\n",
    "\n",
    "# Create a new Folium map\n",
    "# Ordnance survey basemap using the OS Data Hub OS Maps API centred on the boundary centroid location\n",
    "# Zoom levels 7 - 16 correspond to the open data zoom scales only\n",
    "m = folium.Map(location=[y, x],\n",
    "                min_zoom=7,\n",
    "                max_zoom=16,\n",
    "                tiles=zxy_path,\n",
    "                attr='Contains OS data © Crown copyright and database right {}'.format(date.year))\n",
    "\n",
    "# Define feature style function\n",
    "def style(feature):\n",
    "    \"\"\"\n",
    "    Defines how GeoJSON features in a Leaflet overlay will be styled\n",
    "    \"\"\"\n",
    "    return {'fillColor': '#ff1f5b',\n",
    "            'color': '#ff1f5b',\n",
    "            'weight': 1,\n",
    "            'fillOpacity':.3}\n",
    "\n",
    "# Define feature highlight function\n",
    "def highlight(feature):\n",
    "    \"\"\"\n",
    "    Defines how GeoJSON features in a Leaflet overlay will be highlighted on-hover\n",
    "    \"\"\"\n",
    "    return {'weight':3,\n",
    "            'color':'#bf1747'}\n",
    "\n",
    "# Define feature layer using boundary GeoJSON returned by WFS\n",
    "overlay = folium.GeoJson(payload,\n",
    "                            popup=folium.GeoJsonPopup(fields=['lad20cd', 'lad20nm']),\n",
    "                            name=gdf_boundary['lad20nm'],\n",
    "                            style_function=style,\n",
    "                            highlight_function=highlight)\n",
    "\n",
    "# OS logo image\n",
    "logo_url = 'https://labs.os.uk/public/os-api-branding/v0.1.0/img/os-logo-maps.svg'\n",
    "\n",
    "# Folium FloatImage plugin for displaying an image on the map\n",
    "float_image = FloatImage(logo_url, bottom=1, left=1)\n",
    "\n",
    "# Add feature layer to map\n",
    "overlay.add_to(m)\n",
    "\n",
    "# Add OS logo image to map\n",
    "float_image.add_to(m)\n",
    "\n",
    "# Return map object\n",
    "m"
   ]
  },
  {
   "cell_type": "markdown",
   "metadata": {},
   "source": [
    "### Step 5 ~ Download the OS Open Data product Code-Point Open using the OS Downloads API"
   ]
  },
  {
   "cell_type": "code",
   "execution_count": null,
   "metadata": {},
   "outputs": [],
   "source": [
    "# Define OS Data Hub OS Downloads API (download API) parameters\n",
    "# Specify Code-Point Open product in GeoPackage (GPKG) format\n",
    "product = 'CodePointOpen'\n",
    "format = 'GeoPackage'\n",
    "area = 'GB'\n",
    "redirect = ''\n",
    "\n",
    "# OS Downloads API endpoint path: /downloads/v1/products/{product}/downloads?\n",
    "download_endpoint = 'https://osdatahubapi.os.uk/downloads/v1/products/{}/downloads?'.format(product)\n",
    "\n",
    "# Represent open data download API parameters in a dictionary\n",
    "params_download = {'format':format,\n",
    "                   'area':area,\n",
    "                   'redirect':redirect}\n",
    "\n",
    "# Make HTTP GET request and raise exception if request was unsuccessful\n",
    "# allow_redirects argument set to True in order to trigger file download from API response\n",
    "try:\n",
    "    r = requests.get(download_endpoint, params=params_download, allow_redirects=True)\n",
    "    r.raise_for_status()\n",
    "except requests.exceptions.RequestException as e:\n",
    "    print(e)\n",
    "\n",
    "# Download zipfile containing Code-Point Open data and documentation to working directory\n",
    "with open('code-point-open.zip', 'wb') as f:\n",
    "    f.write(r.content)\n",
    "\n",
    "print('=> Downloaded Code-Point Open zipfile using the OS Data Hub OS Downloads API')"
   ]
  },
  {
   "cell_type": "markdown",
   "metadata": {},
   "source": [
    "### Step 6 ~ Extract the Code-Point Open GPKG from the zipped download"
   ]
  },
  {
   "cell_type": "code",
   "execution_count": null,
   "metadata": {},
   "outputs": [],
   "source": [
    "# Extract GPKG from zipfile to working directory\n",
    "with ZipFile('code-point-open.zip', 'r') as obj:\n",
    "    files = obj.namelist()\n",
    "    # List directories and files in zipfile\n",
    "    for file in files:\n",
    "        print(file)\n",
    "        # Identify file(s) with .gpkg extension\n",
    "        if file.endswith('.gpkg'):\n",
    "            obj.extract(file, 'code-point-open')\n",
    "\n",
    "print('\\n=> Extracted GeoPackage in data directory from Code-Point Open zipfile')"
   ]
  },
  {
   "cell_type": "markdown",
   "metadata": {},
   "source": [
    "### Step 7 ~ Obtain the data layer name from the Code-Point Open GPKG"
   ]
  },
  {
   "cell_type": "code",
   "execution_count": null,
   "metadata": {},
   "outputs": [],
   "source": [
    "# Recursively list the working directory\n",
    "!du -a code-point-open"
   ]
  },
  {
   "cell_type": "code",
   "execution_count": null,
   "metadata": {},
   "outputs": [],
   "source": [
    "# Use Fiona (Python wrapper around the OGR component of the Geospatial Data Abstraction Library (GDAL))\n",
    "# to list the layers in the GPKG\n",
    "for layername in fiona.listlayers('code-point-open/data/codepo_gb.gpkg'):\n",
    "    print(layername)"
   ]
  },
  {
   "cell_type": "markdown",
   "metadata": {},
   "source": [
    "### Step 8 ~ Load Code-Point Open layer from GPKG into a GeoDataFrame and reproject from British National Grid to WGS-84\n"
   ]
  },
  {
   "cell_type": "code",
   "execution_count": null,
   "metadata": {},
   "outputs": [],
   "source": [
    "# Load GPKG layer code_point_open into a GeoPandas GeoDataFrame\n",
    "gdf_pcd = gpd.read_file('code-point-open/data/codepo_gb.gpkg', layer='code_point_open')\n",
    "\n",
    "# Set the CRS of the geometry column in the GeoDataFrame to BNG\n",
    "gdf_pcd.crs = BNG\n",
    "\n",
    "# Transform the CRS from BNG to WGS84\n",
    "# Reprojection required so that geometries in pipeline share a common CRS\n",
    "gdf_pcd = gdf_pcd.to_crs(crs=WGS84)\n",
    "\n",
    "# Display the tail of the GeoDataFrame\n",
    "gdf_pcd.tail()\n"
   ]
  },
  {
   "cell_type": "markdown",
   "metadata": {},
   "source": [
    "### Step 9 ~ Obtain ESRI JSON geometry representation of LAD boundary to pass to ONS ESRI ArcGIS REST API\n"
   ]
  },
  {
   "cell_type": "code",
   "execution_count": null,
   "metadata": {},
   "outputs": [],
   "source": [
    "# Extract Shapely polygon geometry object from GeoDataFrame containing the Southampton local authority district boundary\n",
    "boundary_geom = gdf_boundary['geometry'][0]\n",
    "\n",
    "# Simplify the geometry so that it is handled better when passed to the Office for National Statistics (ONS) ArcGIS REST API below\n",
    "boundary_geom = boundary_geom.simplify(0.001, preserve_topology=False)\n",
    "\n",
    "# Represent the coordinate pairs of the boundary exterior ring in a list\n",
    "boundary_ext_coords = list(boundary_geom.exterior.coords)\n",
    "\n",
    "# Represent a list of coordinate pair lists\n",
    "boundary_ext_coords = [list(i) for i in boundary_ext_coords]\n",
    "\n",
    "# Round the coordinate precision to three decimal places\n",
    "boundary_ext_coords = np.round(boundary_ext_coords, 3).tolist()\n",
    "\n",
    "# Obtain a representation of the geometry such that it meets the ESRI JSON geometry object specification\n",
    "esri_json_geom = str({'rings': [boundary_ext_coords],\n",
    "                        'spatialReference': {'wkid': 4326}})\n",
    "\n",
    "print(esri_json_geom)"
   ]
  },
  {
   "cell_type": "markdown",
   "metadata": {},
   "source": [
    "### Step 10 ~ Request LSOA Boundaries from the ONS Open Geography Portal ArcGIS REST API\n"
   ]
  },
  {
   "cell_type": "code",
   "execution_count": null,
   "metadata": {},
   "outputs": [],
   "source": [
    "# ONS Open Geography Portal API base path: https://ons-inspire.esriuk.com\n",
    "# ONS Lower Layer Super Output Area (LSOA) ArcGIS REST API endpoint path: \n",
    "# /arcgis/rest/services\n",
    "# /Census_Boundaries/Lower_Super_Output_Areas_December_2011_Boundaries/MapServer/2/query?\n",
    "ons_endpoint = ('https://ons-inspire.esriuk.com/arcgis/rest/services'\n",
    "                '/Census_Boundaries/Lower_Super_Output_Areas_December_2011_Boundaries/MapServer/2/query?')\n",
    "\n",
    "# Define ONS ESRI ArcGIS REST API parameters\n",
    "f = 'geojson'\n",
    "# Pass the ESRI JSON geometry representation from above\n",
    "geometry = esri_json_geom\n",
    "geometryType = 'esriGeometryPolygon'\n",
    "inSR = 4326\n",
    "# Specify a contains relationship check - which LSOA polygon geometries are contained within the generalised Southampton local authority district boundary\n",
    "spatialRel = 'esriSpatialRelContains'\n",
    "# Sepcify a buffer distance of 200 metres for the Southampton local authority district boundary\n",
    "distance = 200\n",
    "units = 'esriSRUnit_Meter'\n",
    "# Return a subset of the LSOA dataset fields - LSOA code, name and geometry\n",
    "outFields = 'lsoa11cd,lsoa11nm,shape'\n",
    "# Round coordinate precision in the GeoJSON payload to four decimal places\n",
    "geometryPrecision = 4\n",
    "outSR = 4326\n",
    "\n",
    "# Represent ONS ESRI ArcGIS REST API parameters in a dictionary\n",
    "params_ons = {'f':f,\n",
    "              'geometry':geometry,\n",
    "              'geometryType':geometryType,\n",
    "              'inSR':inSR,\n",
    "              'spatialRel':spatialRel,\n",
    "              'distance':distance,\n",
    "              'units':units,\n",
    "              'outFields':outFields,\n",
    "              'geometryPrecision':geometryPrecision,\n",
    "              'outSR':outSR}\n",
    "\n",
    "# Make HTTP GET request and raise exception if request was unsuccessful\n",
    "try:\n",
    "    r = requests.get(ons_endpoint, params=params_ons)\n",
    "    r.raise_for_status()\n",
    "except requests.exceptions.RequestException as e:\n",
    "    print(e)\n",
    "\n",
    "# Decode JSON payload returned by request \n",
    "payload = r.json()\n",
    "\n",
    "# Transform GeoJSON features into a GeoPandas GeoDataFrame\n",
    "gdf_lsoa = gpd.GeoDataFrame.from_features(payload['features'], crs=WGS84)\n",
    "\n",
    "print('=> Transformed ONS ESRI ArcGIS REST API GeoJSON payload into a GeoDataFrame')\n",
    "\n",
    "# Plot LSOA geometries\n",
    "ax = gdf_lsoa.plot(color='#ff1f5b', edgecolor='#ffffff', figsize=(10, 10))\n",
    "# Turn plot axis off\n",
    "ax.axis('off')\n",
    "\n",
    "# Display head of LSOA GeoDataFrame\n",
    "gdf_lsoa.head()"
   ]
  },
  {
   "cell_type": "markdown",
   "metadata": {},
   "source": [
    "### Step 11 ~ Plot LSOA boundaries returned by the ONS Open Geography Portal ESRI ArcGIS REST API on an OS Maps API backed slippy map"
   ]
  },
  {
   "cell_type": "code",
   "execution_count": null,
   "metadata": {},
   "outputs": [],
   "source": [
    "# Create a new Folium map\n",
    "# Ordnance Survey basemap using the OS Data Hub OS Maps API centred on the boundary centroid location\n",
    "# Zoom levels 7 - 16 correspond to the open data zoom scales only\n",
    "m = folium.Map(location=[y, x],\n",
    "               min_zoom=7,\n",
    "               max_zoom=16,\n",
    "               tiles=zxy_path,\n",
    "               attr='Contains OS data © Crown copyright and database right {}'.format(date.year))\n",
    "\n",
    "# Define feature style function\n",
    "def style(feature):\n",
    "    return {'fillColor': '#ff1f5b',\n",
    "            'color': '#ff1f5b',\n",
    "            'weight': 1,\n",
    "            'fillOpacity':.3}\n",
    "\n",
    "# Define feature highlight function\n",
    "def highlight(feature):\n",
    "    return {'weight':3,\n",
    "            'color':'#bf1747'}\n",
    "\n",
    "# Define feature layer using LSOA GeoJSON returned by ONS ESRI ArcGIS REST API\n",
    "overlay = folium.GeoJson(payload,\n",
    "                         popup=folium.GeoJsonPopup(fields=['lsoa11cd', 'lsoa11nm']),\n",
    "                         name='LSOA',\n",
    "                         style_function=style,\n",
    "                         highlight_function=highlight)\n",
    "\n",
    "# OS logo image\n",
    "logo_url = 'https://labs.os.uk/public/os-api-branding/v0.1.0/img/os-logo-maps.svg'\n",
    "# Folium FloatImage plugin for displaying an image on the map\n",
    "float_image = FloatImage(logo_url, bottom=1, left=1)\n",
    "\n",
    "# Add feature layer to map\n",
    "overlay.add_to(m)\n",
    "\n",
    "# Add OS logo image to map\n",
    "float_image.add_to(m)\n",
    "\n",
    "# Return map object\n",
    "m"
   ]
  },
  {
   "cell_type": "markdown",
   "metadata": {},
   "source": [
    "### Step 12 ~ Spatially join postcode and LSOA GeoDataFrames\n"
   ]
  },
  {
   "cell_type": "code",
   "execution_count": null,
   "metadata": {},
   "outputs": [],
   "source": [
    "# Obtain subset of Code-Point Open postcode GeoDataFrame\n",
    "gdf_pcd = gdf_pcd[['Postcode', 'geometry']]\n",
    "\n",
    "# Spatially join the LSOA polygon geometries and Code-Point Open postcode point geometries\n",
    "gdf_lsoa_pcd = gpd.sjoin(gdf_pcd, gdf_lsoa, how='inner', op='within')\n",
    "\n",
    "# Obtain count of intersecting postcodes\n",
    "count = gdf_lsoa_pcd.shape[0]\n",
    "\n",
    "print('=> Count of intersecting postcodes within Southampton boundary: {}\\n'.format(count))\n",
    "\n",
    "# Display head of LSOA-postcode GeoDataFrame\n",
    "gdf_lsoa_pcd.head()"
   ]
  },
  {
   "cell_type": "markdown",
   "metadata": {},
   "source": [
    "### Step 13 ~ Transform the postcode strings such that each string has a single space between the outward and inward codes"
   ]
  },
  {
   "cell_type": "code",
   "execution_count": null,
   "metadata": {},
   "outputs": [],
   "source": [
    "\n",
    "# Define postcode format function\n",
    "# Transform postcode string such that each string has a single space between the outward and inward codes\n",
    "pcd_format = lambda x:x[0:len(x) - 3].strip() + ' ' + x[len(x) - 3:len(x)]\n",
    "\n",
    "# Map format function to postcode field in LSOA-postcode GeoDataFrame\n",
    "gdf_lsoa_pcd['Postcode'] = gdf_lsoa_pcd['Postcode'].map(pcd_format)\n",
    "\n",
    "# Obtain subset of LSOA-postcode DataFrame\n",
    "gdf_lsoa_pcd = gdf_lsoa_pcd[['Postcode', 'lsoa11cd']]\n",
    "\n",
    "print('=> Formatted postcodes')\n",
    "\n",
    "# Display head of LSOA-postcode DataFrame\n",
    "gdf_lsoa_pcd['Postcode'].head()"
   ]
  },
  {
   "cell_type": "markdown",
   "metadata": {},
   "source": [
    "### Step 14 ~ Request the historical HM LR Price Paid Data for the LAD boundary using the transformed postcode strings associated with the postcode geometries returned from the containment query"
   ]
  },
  {
   "cell_type": "code",
   "execution_count": null,
   "metadata": {},
   "outputs": [],
   "source": [
    "# Land Registry (LR) Price Paid Data API base path: https://landregistry.data.gov.uk\n",
    "# LR Price Paid Data API endpoint path: /data/ppi/transaction-record.json?\n",
    "lr_end_point = 'https://landregistry.data.gov.uk/data/ppi/transaction-record.json?'\n",
    "\n",
    "# Define API parameters \n",
    "# Maximum number of transaction records returned per request\n",
    "_pageSize = 200\n",
    "_view = 'basic'\n",
    "# Price Paid Data subset\n",
    "_properties = 'transactionId,transactionDate,pricePaid,propertyAddress.postcode'\n",
    "\n",
    "# Create empty list to be populated with price paid transactions\n",
    "data = []\n",
    "\n",
    "# LR Price Paid API returns a maximum of ten transactions per page\n",
    "# For each postcode in the Southampton local authority district boundary return all price paid transactions\n",
    "# Page through the results moving onto the next postcode when no more transactions are returned\n",
    "# Iterate over the LSOA-postcode DataFrame\n",
    "for index, row in gdf_lsoa_pcd.iterrows():\n",
    "    # Assume that a single postcode has had no more than 400 transactions since 1995\n",
    "    for i in range(0, 2):\n",
    "        # Obtain postcode from lsoa-postcode DataFrame\n",
    "        propertyAddresspostcode = row['Postcode']\n",
    "        # Page through the API results\n",
    "        _page = i\n",
    "        # Represent LR Price Paid API parameters in a dictionary\n",
    "        params_lr = {'_pageSize':_pageSize,\n",
    "                     '_view':_view,\n",
    "                     '_properties':_properties,\n",
    "                     'propertyAddress.postcode':propertyAddresspostcode,\n",
    "                     '_page':_page}\n",
    "        # Make HTTP GET request and raise exception if request was unsuccessful\n",
    "        try:\n",
    "            r = requests.get(lr_end_point, params=params_lr)\n",
    "            r.raise_for_status()\n",
    "        except requests.exceptions.RequestException as e:\n",
    "            print(e)\n",
    "            continue\n",
    "        # Decode JSON payload returned by request\n",
    "        payload = r.json()\n",
    "        # Check if items object is empty\n",
    "        # If empty move onto next postcode\n",
    "        if not payload['result']['items']:\n",
    "            break\n",
    "        # If not empty append subset of transactions data to data list\n",
    "        else:\n",
    "            for j in range(0, len(payload['result']['items'])):\n",
    "                # Get each transaction record     \n",
    "                feature = payload['result']['items'][j]\n",
    "                # Obtain postcode from transaction property address\n",
    "                feature['postcode'] = feature['propertyAddress']['postcode']\n",
    "                # Append data to data list\n",
    "                data.append(feature)\n",
    "\n",
    "# Convert data list into DataFrame\n",
    "df_ppd = pd.DataFrame(data)[['transactionId', 'pricePaid', 'transactionDate', 'postcode']]\n",
    "\n",
    "# Define date format function \n",
    "# Required to transform date into Python date-time type\n",
    "date_format = lambda x:datetime.strptime(x, '%a, %d %b %Y')\n",
    "\n",
    "# Update transactionDate field by applying date format function\n",
    "df_ppd['transactionDate'] = df_ppd['transactionDate'].map(date_format)\n",
    "\n",
    "# Display head of postcode-price paid data DataFrame\n",
    "df_ppd.head()"
   ]
  },
  {
   "cell_type": "code",
   "execution_count": null,
   "metadata": {},
   "outputs": [],
   "source": []
  }
 ],
 "metadata": {
  "kernelspec": {
   "display_name": "Python 3",
   "language": "python",
   "name": "python3"
  },
  "language_info": {
   "codemirror_mode": {
    "name": "ipython",
    "version": 3
   },
   "file_extension": ".py",
   "mimetype": "text/x-python",
   "name": "python",
   "nbconvert_exporter": "python",
   "pygments_lexer": "ipython3",
   "version": "3.8.5"
  }
 },
 "nbformat": 4,
 "nbformat_minor": 4
}
