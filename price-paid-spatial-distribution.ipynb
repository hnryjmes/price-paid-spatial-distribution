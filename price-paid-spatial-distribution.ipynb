{
 "cells": [
  {
   "cell_type": "code",
   "execution_count": null,
   "metadata": {},
   "outputs": [],
   "source": []
  },
  {
   "cell_type": "markdown",
   "metadata": {},
   "source": [
    "# Data Science – Price Paid Spatial Distribution\n",
    "### Tutorial\n",
    "* Step 1 ~ Import Python Libraries\n",
    "* Step 2 ~ Request LAD boundary from the ONS Open Geography Portal WFS\n",
    "* Step 3 ~ Construct a URL path for the OS Maps API\n",
    "* Step 4 ~ Plot LAD boundary returned by the ONS Open Geography Portal WFS on an OS Maps API backed slippy map\n",
    "* Step 5 ~ Download the OS Open Data product Code-Point Open using the OS Downloads API\n",
    "* Step 6 ~ Extract the Code-Point Open GPKG from the zipped download\n",
    "* Step 7 ~ Obtain the data layer name from the Code-Point Open GPKG\n",
    "* Step 8 ~ Load Code-Point Open layer from GPKG into a GeoDataFrame and reproject from British National Grid to WGS-84\n",
    "* Step 9 ~ Obtain ESRI JSON geometry representation of LAD boundary to pass to ONS ESRI ArcGIS REST API\n",
    "* Step 10 ~ Request LSOA Boundaries from the ONS Open Geography Portal ArcGIS REST API\n",
    "* Step 11 ~ Plot LSOA boundaries returned by the ONS Open Geography Portal ESRI ArcGIS REST API on an OS Maps API backed slippy map\n",
    "* Step 12 ~ Spatially join postcode and LSOA GeoDataFrames\n",
    "* Step 13 ~ Transform the postcode strings such that each string has a single space between the outward and inward codes\n",
    "* Step 14 ~ Request the historical HM LR Price Paid Data for the LAD boundary using the transformed postcode strings associated with the postcode geometries returned from the containment query\n",
    "* Step 15 ~ Join Price Paid and postcode-LSOA DataFrames and compute median price paid by LSOA by 6 year time windows\n",
    "* Step 16 ~ Request OS Open ZoomStack district building geometires from the OS Features API for the LAD boundary BBOX\n",
    "* Step 17 ~ Spatially join and compute the intersection between building polygon geometries and LSOA polygon geometries and, dissolve the resultant buidling features by LSOA code to form an aggregate building geometry per LSOA\n",
    "* Step 18 ~ Join buidling-LSOA and LSOA-median price paid by 6 year time window DataFrames together on LSOA code\n",
    "* Step 19 ~ Visualise the spatial distribution in LSOA median price paid decile by 6 year time window\n",
    "* Step 20 ~ Visualise the change in LSOA median price paid decile between 1995 - 2001 and 2013 - 2019 for LSOAs where the decile position has increased or decreased by two or more places\n",
    "\n"
   ]
  },
  {
   "cell_type": "code",
   "execution_count": null,
   "metadata": {},
   "outputs": [],
   "source": [
    "!pip install -r requirements.txt"
   ]
  },
  {
   "cell_type": "code",
   "execution_count": null,
   "metadata": {},
   "outputs": [],
   "source": [
    "import fiona\n",
    "import folium\n",
    "import geopandas as gpd\n",
    "import matplotlib.pyplot as plt\n",
    "import numpy as np\n",
    "import pandas as pd\n",
    "import requests\n",
    "from datetime import datetime\n",
    "from folium.plugins import FloatImage\n",
    "from mpl_toolkits.axes_grid1 import make_axes_locatable\n",
    "from zipfile import ZipFile\n",
    "\n",
    "print(\"=> Imported libraries\")\n"
   ]
  },
  {
   "cell_type": "code",
   "execution_count": null,
   "metadata": {
    "tags": [
     "outputPrepend"
    ]
   },
   "outputs": [],
   "source": [
    "# ONS Open Geography Portal WFS base path: https://ons-inspire.esriuk.com\n",
    "# ONS WFS endpoint path: /arcgis/services/Administrative_Boundaries\n",
    "#                        /Local_Authority_Districts_May_2020_Boundaries_UK_BFE\n",
    "#                        /MapServer/WFSServer?\n",
    "wfs_endpoint = ('https://ons-inspire.esriuk.com/arcgis/services/Administrative_Boundaries'\n",
    "                '/Local_Authority_Districts_May_2020_Boundaries_UK_BFE/MapServer/WFSServer?')\n",
    "\n",
    "# Define WFS parameters \n",
    "service = 'wfs'\n",
    "request = 'GetFeature'\n",
    "version = '2.0.0'\n",
    "typeNames = ('Administrative_Boundaries_Local_Authority_Districts_May_2020_Boundaries_UK_BFE:'\n",
    "             'Local_Authority_Districts__May_2020__Full_Extent_Boundaries_UK')\n",
    "outputFormat = 'GEOJSON'\n",
    "srsName = 'EPSG:4326'\n",
    "# Define attribute-based filter using OGC WFS filter encoding specification\n",
    "# Filter specifies the Government Statistical Service (GSS) Code for the Southampton local authority district area\n",
    "filter = ('<ogc:Filter>'\n",
    "              '<ogc:PropertyIsEqualTo>'\n",
    "                  '<ogc:PropertyName>lad20cd</ogc:PropertyName>'\n",
    "                  '<ogc:Literal>E06000045</ogc:Literal>'\n",
    "              '</ogc:PropertyIsEqualTo>'\n",
    "          '</ogc:Filter>')\n",
    "\n",
    "# Represent WFS parameters in a dictionary and collapse OGC filter into a single line\n",
    "params_wfs = {'service':service, \n",
    "              'request':request,\n",
    "              'version':version,\n",
    "              'typeNames':typeNames,\n",
    "              'outputFormat':outputFormat,\n",
    "              'srsName':srsName,\n",
    "              'filter':filter}\n",
    "\n",
    "# Make HTTP GET request and raise exception if request was unsuccessful\n",
    "# Turn off verification to remove the need to whitelist certificate\n",
    "try:\n",
    "    r = requests.get(wfs_endpoint, params=params_wfs)\n",
    "    r.raise_for_status()\n",
    "except requests.exceptions.RequestException as e:  \n",
    "    print(e)\n",
    "\n",
    "# Decode JSON payload returned by request    \n",
    "payload = r.json()\n",
    "print(payload)\n"
   ]
  },
  {
   "cell_type": "code",
   "execution_count": null,
   "metadata": {},
   "outputs": [],
   "source": [
    "# Define coordinate reference system (CRS) codes\n",
    "# WGS 84\n",
    "WGS84 = 'epsg:4326'\n",
    "# British National Grid\n",
    "BNG = 'epsg:27700'\n",
    "\n",
    "# Transform GeoJSON features into a GeoPandas GeoDataFrame\n",
    "gdf_boundary = gpd.GeoDataFrame.from_features(payload['features'], crs=WGS84)\n",
    "\n",
    "# Obtain polygon centroid point geometry\n",
    "boundary_centroid = gdf_boundary['geometry'].centroid\n",
    "\n",
    "# Obtain x and y coordinates of centroid point geometry\n",
    "x = boundary_centroid.x\n",
    "y = boundary_centroid.y\n",
    "\n",
    "# Obtain bounds of polygon geometry\n",
    "bounds = gdf_boundary['geometry'][0].bounds\n",
    "\n",
    "# Define a OGC WFS filter compliant bounding box for the polygon geometry\n",
    "# bottom-left y, bottom-left x, top-right y, top-right x\n",
    "# bbox = str(bounds[1]) + ',' + str(bounds[0]) + ',' + str(bounds[3]) + ',' + str(bounds[2])\n",
    "bbox = ','.join([str(bounds[1]), str(bounds[0]), str(bounds[3]), str(bounds[2])])\n",
    "\n",
    "# Plot boundary geometry\n",
    "ax = gdf_boundary.plot(color='#ff1f5b')\n",
    "# Turn plot axis off\n",
    "ax.axis('off')\n",
    "\n",
    "print('=> Transformed ONS WFS GeoJSON payload into a GeoDataFrame')\n"
   ]
  },
  {
   "cell_type": "code",
   "execution_count": null,
   "metadata": {},
   "outputs": [],
   "source": []
  }
 ],
 "metadata": {
  "kernelspec": {
   "display_name": "Python 3.8.3 64-bit (conda)",
   "metadata": {
    "interpreter": {
     "hash": "b3ba2566441a7c06988d0923437866b63cedc61552a5af99d1f4fb67d367b25f"
    }
   },
   "name": "Python 3.8.3 64-bit (conda)"
  },
  "language_info": {
   "codemirror_mode": {
    "name": "ipython",
    "version": 3
   },
   "file_extension": ".py",
   "mimetype": "text/x-python",
   "name": "python",
   "nbconvert_exporter": "python",
   "pygments_lexer": "ipython3",
   "version": "3.8.3-final"
  }
 },
 "nbformat": 4,
 "nbformat_minor": 4
}
